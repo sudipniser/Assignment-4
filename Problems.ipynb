{
 "cells": [
  {
   "cell_type": "code",
   "execution_count": 1,
   "source": [
    "import Matrix_lib as ml"
   ],
   "outputs": [],
   "metadata": {}
  },
  {
   "cell_type": "code",
   "execution_count": 2,
   "source": [
    "'''\r\n",
    "Reading the input from files\r\n",
    "#For solving system of equations, of the form AX=b, A and b are input through \r\n",
    "separate files (augmented matrix not used)\r\n",
    "#For calculating inverse, only the matrix to be inverted is input(not the augmented matrix)\r\n",
    "'''\r\n",
    "Q1_A=ml.Matrix(ml.rd_mtrx('Q1_A.csv'))\r\n",
    "Q1_b=ml.Matrix(ml.rd_mtrx('Q1_b.csv'))\r\n",
    "Q2=ml.Matrix(ml.rd_mtrx('Q2.csv'))\r\n",
    "Q2_Aug=ml.Matrix(ml.rd_mtrx('Q2_Aug.csv'))\r\n",
    "Q3_A=ml.Matrix(ml.rd_mtrx('Q3_A.csv'))\r\n",
    "Q3_b=ml.Matrix(ml.rd_mtrx('Q3_b.csv'))"
   ],
   "outputs": [],
   "metadata": {}
  },
  {
   "cell_type": "code",
   "execution_count": 3,
   "source": [
    "#Solving Q1 using Doolittle's method\r\n",
    "#The output are x_1,x_2,x_3 and x_4 respectively\r\n",
    "ml.solve_system_Doolittle(Q1_A,Q1_b).show()"
   ],
   "outputs": [
    {
     "output_type": "stream",
     "name": "stdout",
     "text": [
      "[1.0]\n",
      "[-1.0]\n",
      "[1.0]\n",
      "[2.0]\n"
     ]
    }
   ],
   "metadata": {}
  },
  {
   "cell_type": "code",
   "execution_count": 4,
   "source": [
    "#Solving Q1 using Crout's method\r\n",
    "#The output are x_1,x_2,x_3 and x_4 respectively\r\n",
    "ml.solve_system_Crout(Q1_A,Q1_b).show()"
   ],
   "outputs": [
    {
     "output_type": "stream",
     "name": "stdout",
     "text": [
      "[1.0]\n",
      "[-1.0]\n",
      "[1.0]\n",
      "[2.0]\n"
     ]
    }
   ],
   "metadata": {}
  },
  {
   "cell_type": "code",
   "execution_count": 5,
   "source": [
    "#Solving Q2\r\n",
    "#First checking if the inverse exists using gauss jordan method\r\n",
    "#Since this is the Gauss jordan method we use the augmented matrix\r\n",
    "#The output shows that the inverse does exist\r\n",
    "Q2_inv=ml.inverse(Q2_Aug)\r\n",
    "ml.round_Mat(Q2_inv).show()"
   ],
   "outputs": [
    {
     "output_type": "stream",
     "name": "stdout",
     "text": [
      "[-0.25, 1.67, -1.83, 0.33]\n",
      "[0.08, -0.67, 0.83, 0.0]\n",
      "[0.17, -0.33, -0.33, -0.0]\n",
      "[-0.08, 0.67, 0.17, 0.0]\n"
     ]
    }
   ],
   "metadata": {}
  },
  {
   "cell_type": "code",
   "execution_count": 6,
   "source": [
    "#Now we calculate the inverse using LU decomposition and then solving for the identity matrix\r\n",
    "Q2_inv=ml.LUinverse(Q2)\r\n",
    "ml.round_Mat(Q2_inv).show()"
   ],
   "outputs": [
    {
     "output_type": "stream",
     "name": "stdout",
     "text": [
      "[-0.25, 1.67, -1.83, 0.33]\n",
      "[0.08, -0.67, 0.83, 0.0]\n",
      "[0.17, -0.33, -0.33, -0.0]\n",
      "[-0.08, 0.67, 0.17, 0.0]\n"
     ]
    }
   ],
   "metadata": {}
  },
  {
   "cell_type": "code",
   "execution_count": 7,
   "source": [
    "#To verify that this is indeed the inverse, we multiply the inverse with the original matrix, this yields the identity matrix\r\n",
    "Q2=ml.Matrix(ml.rd_mtrx('Q2.csv'))#we do this since the original matrix is lost\r\n",
    "product=ml.Mat_product(Q2,Q2_inv,show=False)\r\n",
    "ml.round_Mat(product).show()"
   ],
   "outputs": [
    {
     "output_type": "stream",
     "name": "stdout",
     "text": [
      "[1.04, 0.04, 0.04, 0.0]\n",
      "[0.01, 1.01, 0.01, 0.0]\n",
      "[0.0, 0.0, 1.0, 0.0]\n",
      "[-0.02, -0.01, -0.01, 0.99]\n"
     ]
    }
   ],
   "metadata": {}
  },
  {
   "cell_type": "code",
   "execution_count": 8,
   "source": [
    "#Solving Q3\r\n",
    "#The system of equations is solved using Cholesky's decompostion\r\n",
    "#The Output are x_1,x_2,x_3 and x_4 respectively\r\n",
    "X=ml.solve_system_chol(Q3_A,Q3_b)\r\n",
    "ml.round_Mat(X).show()"
   ],
   "outputs": [
    {
     "output_type": "stream",
     "name": "stdout",
     "text": [
      "[0.1]\n",
      "[0.2]\n",
      "[0.3]\n",
      "[0.4]\n"
     ]
    }
   ],
   "metadata": {}
  },
  {
   "cell_type": "code",
   "execution_count": 9,
   "source": [
    "#Solving the same equation as above using Doolittle's method for verification\r\n",
    "#The Output are x_1,x_2,x_3 and x_4 respectively\r\n",
    "X=ml.solve_system_Doolittle(Q3_A,Q3_b)\r\n",
    "ml.round_Mat(X).show()"
   ],
   "outputs": [
    {
     "output_type": "stream",
     "name": "stdout",
     "text": [
      "[0.1]\n",
      "[0.2]\n",
      "[0.3]\n",
      "[0.4]\n"
     ]
    }
   ],
   "metadata": {}
  },
  {
   "cell_type": "code",
   "execution_count": 10,
   "source": [
    "#Solving the same equation as above using Crout's method for verification\r\n",
    "#The Output are x_1,x_2,x_3 and x_4 respectively\r\n",
    "X=ml.solve_system_Crout(Q3_A,Q3_b)\r\n",
    "ml.round_Mat(X).show()"
   ],
   "outputs": [
    {
     "output_type": "stream",
     "name": "stdout",
     "text": [
      "[0.1]\n",
      "[0.2]\n",
      "[0.3]\n",
      "[0.4]\n"
     ]
    }
   ],
   "metadata": {}
  }
 ],
 "metadata": {
  "orig_nbformat": 4,
  "language_info": {
   "name": "python",
   "version": "3.8.3",
   "mimetype": "text/x-python",
   "codemirror_mode": {
    "name": "ipython",
    "version": 3
   },
   "pygments_lexer": "ipython3",
   "nbconvert_exporter": "python",
   "file_extension": ".py"
  },
  "kernelspec": {
   "name": "python3",
   "display_name": "Python 3.8.3 64-bit"
  },
  "interpreter": {
   "hash": "2db524e06e9f5f4ffedc911c917cb75e12dbc923643829bf417064a77eb14d37"
  }
 },
 "nbformat": 4,
 "nbformat_minor": 2
}